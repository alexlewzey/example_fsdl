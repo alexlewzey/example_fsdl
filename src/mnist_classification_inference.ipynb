{
 "cells": [
  {
   "cell_type": "code",
   "execution_count": null,
   "metadata": {},
   "outputs": [],
   "source": [
    "from utils import *"
   ]
  },
  {
   "cell_type": "code",
   "execution_count": null,
   "metadata": {},
   "outputs": [],
   "source": [
    "mlflow.set_tracking_uri(uri=uri_mlruns)\n",
    "experiemnt_name = 'mnist-classifier'\n",
    "experiment_id = mlflow.get_experiment_by_name(experiemnt_name).experiment_id\n",
    "df = mlflow.search_runs(experiment_id)\n",
    "df = df[df.status  == 'FINISHED']\n",
    "f = px.scatter(df, 'metrics.test_acc', 'metrics.valid_acc', color='tags.mlflow.runName', title='trained models')\n",
    "f"
   ]
  },
  {
   "cell_type": "code",
   "execution_count": null,
   "metadata": {},
   "outputs": [],
   "source": [
    "data = MNISTDataModule(path=dir_mnist)\n",
    "data.setup('predict')\n",
    "x = data.ds_predict.x.numpy()\n",
    "\n",
    "best_run = df.sort_values('metrics.test_acc', ascending=False).iloc[0]\n",
    "run_id = best_run.run_id\n",
    "model_uri = f\"runs:/{run_id}/model\"\n",
    "loaded_model = mlflow.pyfunc.load_model(model_uri=model_uri)\n",
    "probs = loaded_model.predict(x)\n",
    "preds = probs.argmax(1)\n",
    "probs.shape, preds.shape, loaded_model"
   ]
  }
 ],
 "metadata": {
  "kernelspec": {
   "display_name": "base",
   "language": "python",
   "name": "python3"
  },
  "language_info": {
   "codemirror_mode": {
    "name": "ipython",
    "version": 3
   },
   "file_extension": ".py",
   "mimetype": "text/x-python",
   "name": "python",
   "nbconvert_exporter": "python",
   "pygments_lexer": "ipython3",
   "version": "3.10.9"
  }
 },
 "nbformat": 4,
 "nbformat_minor": 2
}
